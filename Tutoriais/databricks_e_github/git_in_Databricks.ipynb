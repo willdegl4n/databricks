{
 "cells": [
  {
   "cell_type": "markdown",
   "metadata": {
    "application/vnd.databricks.v1+cell": {
     "cellMetadata": {},
     "inputWidgets": {},
     "nuid": "ad85cf6f-e9ef-47e1-af47-625b95600cc2",
     "showTitle": false,
     "tableResultSettingsMap": {},
     "title": ""
    }
   },
   "source": [
    "# DATABRICKS AND GITHUB\n",
    "Como Configurar o Databricks para sincronizar tudo que vc ta fazendo no GitHub e Vice-versa \n",
    "---\n",
    "### **Primeira parte:** Configurar o `Github`\n",
    "1. devidamente logado no GitHub, clique na sua foto na parte _superior direita_ da pagina e depois em `Settings`\n",
    "<img width=\"1914\" height=\"750\" alt=\"image\" src=\"https://github.com/user-attachments/assets/7e98efa5-6995-45f1-bd19-488a8450ca71\" />\n",
    "\n",
    "2. na pagina de configuração (settings), localize no final do meno esquerdo, `<> Developer settings`\n",
    "<img width=\"1300\" height=\"899\" alt=\"image\" src=\"https://github.com/user-attachments/assets/49a0044f-3ac5-4075-af31-4f4fbb9fe422\" />\n",
    "\n",
    "3. na pagina de configurações de desenvolvedor, clique em `🔑 Personal access tokens` e depois em `Fine-grained tokens`, no pagina que aparecer, clique em `Generate new token`\n",
    "<img width=\"1917\" height=\"399\" alt=\"image\" src=\"https://github.com/user-attachments/assets/325048eb-32f5-4aed-9755-fb757082d26e\" />\n",
    "\n",
    "4. vai aparecer os campos de identificação do novo token de acesso\n",
    "> 4.1. em `Token name *`, digite o nome desejado para o token <br>\n",
    "> 4.2. em `Description`, digite a descriçao para o token <br>\n",
    "> 4.3. em `Resouce owner` defina quem é o dono desse token, aconcelho deixar voce mesmo <br>\n",
    "> 4.4. em `Expiration`, escolha a validade do token <br>\n",
    "> 4.5. em `Repositorio access`, aconcelho deixar para todos os repositorios (_no databricks, vamos escolher qual vamos usar_) <br>\n",
    "<img width=\"1909\" height=\"902\" alt=\"image\" src=\"https://github.com/user-attachments/assets/68e98e9f-0dd7-4edf-a16e-c04861fe85ae\" />\n",
    "\n",
    "5. em `Permissions`, vamos clicar em `+ Add permissions` e marcar duas caixinhas:<br>\n",
    "> 5.1. `Contents` e `Workflows` (_Perceba que a caixinha `Metadata` vai marcar automaticamente e mostrar o aviso de **Required**_) <br>\n",
    "> 5.2. É importante que nao esqueça de alterar a opção **Access** das caixinhas para `Read and Write`<br>\n",
    "> 5.3. agora clicque em `Generate token`<br>\n",
    "<img width=\"1360\" height=\"632\" alt=\"image\" src=\"https://github.com/user-attachments/assets/86beebb7-8883-4fd1-8788-26b827b54123\" />\n",
    "\n",
    "6. confirme as permissões e clique em `Generate token`\n",
    "<img width=\"1149\" height=\"745\" alt=\"image\" src=\"https://github.com/user-attachments/assets/97fcc35f-68cf-489a-9ca4-c0afae5e267b\" />\n",
    "\n",
    "7. vai ser gerada um token para ser configurado onde terá acesso ao github, no nosso caso, no databricks <br>\n",
    "⚠️ **CUIDADO** ⚠️<br>\n",
    "_O token gerado deve ser copiado e ja configurado, pois não será mais possivel retornar para vê-lo novamente_<br>\n",
    "<img width=\"1918\" height=\"564\" alt=\"image\" src=\"https://github.com/user-attachments/assets/90bd2e14-5fa5-4af8-b494-6f4a583bb07d\" />\n"
   ]
  }
 ],
 "metadata": {
  "application/vnd.databricks.v1+notebook": {
   "computePreferences": null,
   "dashboards": [],
   "environmentMetadata": {
    "base_environment": "",
    "environment_version": "3"
   },
   "inputWidgetPreferences": null,
   "language": "python",
   "notebookMetadata": {
    "pythonIndentUnit": 4
   },
   "notebookName": "git_in_Databricks",
   "widgets": {}
  },
  "language_info": {
   "name": "python"
  }
 },
 "nbformat": 4,
 "nbformat_minor": 0
}
