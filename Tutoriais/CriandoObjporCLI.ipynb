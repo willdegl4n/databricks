{
 "cells": [
  {
   "cell_type": "markdown",
   "metadata": {
    "application/vnd.databricks.v1+cell": {
     "cellMetadata": {},
     "inputWidgets": {},
     "nuid": "6065b70d-9f5e-4dea-9706-ee5c5685bb83",
     "showTitle": false,
     "tableResultSettingsMap": {},
     "title": ""
    }
   },
   "source": [
    "## Criando estruturas por linha de comando no Databricks\n",
    "Para criar um catálogo, esquema ou volume via linha de comando no Databricks, utilize a CLI do Databricks ou um notebook e os comandos SQL apropriados. \n",
    "\n",
    "Primeiro, crie o catálogo usando o comando CREATE CATALOG. \n",
    "Em seguida, crie o esquema dentro do catálogo com CREATE SCHEMA. \n",
    "Finalmente, crie o volume dentro do esquema com CREATE VOLUME, especificando se é gerenciado ou externo. \n",
    "\n",
    "**Passos detalhados:**\n",
    "1. Criar o Catálogo:\n",
    "\n",
    "Utilize o comando SQL CREATE CATALOG seguido do nome desejado para o catálogo. \n",
    "Exemplo: CREATE CATALOG sql_dicas; \n",
    "Você pode criar catálogos padrão (para dados gerenciados e IA), catálogos externos (para federação de consultas) ou catálogos compartilhados (para dados compartilhados). \n",
    "\n",
    "2. Criar o Esquema:\n",
    "\n",
    "Utilize o comando SQL CREATE SCHEMA dentro do catálogo criado, especificando o nome do esquema e o catálogo ao qual ele pertence. \n",
    "Exemplo: CREATE SCHEMA sql_dicas.db_raw_data; \n",
    "Opcionalmente, você pode especificar um local de armazenamento gerenciado para o esquema, se necessário. \n",
    "\n",
    "3. Criar o Volume:\n",
    "\n",
    "Utilize o comando SQL CREATE VOLUME dentro do esquema criado, especificando o nome do volume e o esquema ao qual ele pertence. \n",
    "Exemplo: CREATE VOLUME sql_dicas.db_raw_data.vol_raw_sqldicas; \n",
    "Para volumes externos, especifique o caminho de armazenamento na nuvem. \n",
    "Exemplo: CREATE EXTERNAL VOLUME sql_dicas.db_raw_data.external_vol_sqldicas LOCATION 's3://sqldicas-bucket/path'; "
   ]
  },
  {
   "cell_type": "code",
   "execution_count": 0,
   "metadata": {
    "application/vnd.databricks.v1+cell": {
     "cellMetadata": {
      "byteLimit": 2048000,
      "implicitDf": true,
      "rowLimit": 10000
     },
     "inputWidgets": {},
     "nuid": "211227ee-a74e-498b-88ee-9045752ac84f",
     "showTitle": false,
     "tableResultSettingsMap": {},
     "title": ""
    }
   },
   "outputs": [],
   "source": [
    "%sql\n",
    "-- Criar o catálogo se não existir\n",
    "CREATE CATALOG IF NOT EXISTS sql_dicas;\n",
    "\n",
    "-- Criar o esquema dentro do catálogo se não existir\n",
    "CREATE SCHEMA IF NOT EXISTS sql_dicas.db_raw_data;\n",
    "\n",
    "-- Criar um volume gerenciado\n",
    "CREATE VOLUME IF NOT EXISTS sql_dicas.db_raw_data.vol_raw;\n",
    "\n",
    "-- Criar um volume externo\n",
    "--CREATE EXTERNAL VOLUME sql_dicas.db_raw_data.vol_externo LOCATION 's3://seu-bucket/seu-path';"
   ]
  },
  {
   "cell_type": "markdown",
   "metadata": {
    "application/vnd.databricks.v1+cell": {
     "cellMetadata": {},
     "inputWidgets": {},
     "nuid": "d8138ae5-416a-4695-b32a-135d1fd297dd",
     "showTitle": false,
     "tableResultSettingsMap": {},
     "title": ""
    }
   },
   "source": [
    "### Como apagar Catalog, Schema e Volume\n",
    "\n",
    "Explicação:\n",
    "1. **Ordem correta:** Devemos remover os objetos na ordem inversa da criação (_volume → schema → catalog_)\n",
    "\n",
    "2. **Sintaxe correta:** Não use `IN CATALOG` - em vez disso, use nomes totalmente qualificados com pontos\n",
    "\n",
    "3. **Use CASCADE**: Quando disponível, `CASCADE` remove automaticamente todos os objetos dentro do catalog, tornando o processo mais simples\n",
    "\n",
    "Escolha a primeira versão se quiser mais controle sobre o processo de remoção, ou a segunda versão se preferir uma abordagem mais direta e eficiente.\n"
   ]
  },
  {
   "cell_type": "code",
   "execution_count": 0,
   "metadata": {
    "application/vnd.databricks.v1+cell": {
     "cellMetadata": {},
     "inputWidgets": {},
     "nuid": "774699cb-90df-4150-b9a5-9e8029af3864",
     "showTitle": false,
     "tableResultSettingsMap": {},
     "title": ""
    }
   },
   "outputs": [],
   "source": [
    "%sql\n",
    "-- Drop the volume if it exists (fully qualified name)\n",
    "DROP VOLUME IF EXISTS sql_dicas.db_raw_data.vol_raw;\n",
    "\n",
    "-- Drop the schema if it exists (using IN CATALOG)\n",
    "DROP SCHEMA IF EXISTS db_raw_data IN CATALOG sql_dicas;\n",
    "\n",
    "-- Drop the catalog if it exists\n",
    "DROP CATALOG IF EXISTS sql_dicas;\n",
    "\n",
    "-- Esta única instrução remove o catálogo e todos os objetos dentro dele\n",
    "DROP CATALOG IF EXISTS sql_dicas CASCADE;"
   ]
  }
 ],
 "metadata": {
  "application/vnd.databricks.v1+notebook": {
   "computePreferences": null,
   "dashboards": [],
   "environmentMetadata": {
    "base_environment": "",
    "environment_version": "2"
   },
   "inputWidgetPreferences": null,
   "language": "python",
   "notebookMetadata": {
    "mostRecentlyExecutedCommandWithImplicitDF": {
     "commandId": -1,
     "dataframes": [
      "_sqldf"
     ]
    },
    "pythonIndentUnit": 4
   },
   "notebookName": "CriandoObjporCLI",
   "widgets": {}
  },
  "language_info": {
   "name": "python"
  }
 },
 "nbformat": 4,
 "nbformat_minor": 0
}
